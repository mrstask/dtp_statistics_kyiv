{
 "cells": [
  {
   "cell_type": "markdown",
   "metadata": {
    "colab_type": "text",
    "id": "view-in-github"
   },
   "source": [
    "<a href=\"https://colab.research.google.com/github/mrstask/dtp_statistics_kyiv/blob/master/%D0%A1%D1%82%D0%B0%D1%82%D0%B8%D1%81%D1%82%D0%B8%D0%BA%D0%B0_%D0%94%D0%A2%D0%9F_%D0%9A%D0%B8%D1%97%D0%B2.ipynb\" target=\"_parent\"><img src=\"https://colab.research.google.com/assets/colab-badge.svg\" alt=\"Open In Colab\"/></a>"
   ]
  },
  {
   "cell_type": "code",
   "execution_count": 1,
   "metadata": {
    "colab": {
     "base_uri": "https://localhost:8080/",
     "height": 357
    },
    "colab_type": "code",
    "id": "DZFzwsU6ewjI",
    "outputId": "dbea0cf2-e861-4159-8183-2f61faedcd28"
   },
   "outputs": [
    {
     "name": "stdout",
     "output_type": "stream",
     "text": [
      "Requirement already satisfied: requests-html in c:\\programdata\\anaconda3\\lib\\site-packages (0.10.0)\n",
      "Requirement already satisfied: parse in c:\\programdata\\anaconda3\\lib\\site-packages (from requests-html) (1.15.0)\n",
      "Requirement already satisfied: w3lib in c:\\programdata\\anaconda3\\lib\\site-packages (from requests-html) (1.22.0)\n",
      "Requirement already satisfied: requests in c:\\programdata\\anaconda3\\lib\\site-packages (from requests-html) (2.22.0)\n",
      "Requirement already satisfied: bs4 in c:\\programdata\\anaconda3\\lib\\site-packages (from requests-html) (0.0.1)\n",
      "Requirement already satisfied: pyppeteer>=0.0.14 in c:\\programdata\\anaconda3\\lib\\site-packages (from requests-html) (0.2.2)\n",
      "Requirement already satisfied: fake-useragent in c:\\programdata\\anaconda3\\lib\\site-packages (from requests-html) (0.1.11)\n",
      "Requirement already satisfied: pyquery in c:\\programdata\\anaconda3\\lib\\site-packages (from requests-html) (1.4.1)\n",
      "Requirement already satisfied: six>=1.4.1 in c:\\programdata\\anaconda3\\lib\\site-packages (from w3lib->requests-html) (1.14.0)\n",
      "Requirement already satisfied: certifi>=2017.4.17 in c:\\programdata\\anaconda3\\lib\\site-packages (from requests->requests-html) (2019.11.28)\n",
      "Requirement already satisfied: idna<2.9,>=2.5 in c:\\programdata\\anaconda3\\lib\\site-packages (from requests->requests-html) (2.8)\n",
      "Requirement already satisfied: urllib3!=1.25.0,!=1.25.1,<1.26,>=1.21.1 in c:\\programdata\\anaconda3\\lib\\site-packages (from requests->requests-html) (1.25.8)\n",
      "Requirement already satisfied: chardet<3.1.0,>=3.0.2 in c:\\programdata\\anaconda3\\lib\\site-packages (from requests->requests-html) (3.0.4)\n",
      "Requirement already satisfied: beautifulsoup4 in c:\\programdata\\anaconda3\\lib\\site-packages (from bs4->requests-html) (4.8.2)\n",
      "Requirement already satisfied: websockets<9.0,>=8.1 in c:\\programdata\\anaconda3\\lib\\site-packages (from pyppeteer>=0.0.14->requests-html) (8.1)\n",
      "Requirement already satisfied: pyee<8.0.0,>=7.0.1 in c:\\programdata\\anaconda3\\lib\\site-packages (from pyppeteer>=0.0.14->requests-html) (7.0.2)\n",
      "Requirement already satisfied: appdirs<2.0.0,>=1.4.3 in c:\\programdata\\anaconda3\\lib\\site-packages (from pyppeteer>=0.0.14->requests-html) (1.4.4)\n",
      "Requirement already satisfied: tqdm<5.0.0,>=4.42.1 in c:\\programdata\\anaconda3\\lib\\site-packages (from pyppeteer>=0.0.14->requests-html) (4.42.1)\n",
      "Requirement already satisfied: cssselect>0.7.9 in c:\\programdata\\anaconda3\\lib\\site-packages (from pyquery->requests-html) (1.1.0)\n",
      "Requirement already satisfied: lxml>=2.1 in c:\\programdata\\anaconda3\\lib\\site-packages (from pyquery->requests-html) (4.5.0)\n",
      "Requirement already satisfied: soupsieve>=1.2 in c:\\programdata\\anaconda3\\lib\\site-packages (from beautifulsoup4->bs4->requests-html) (1.9.5)\n"
     ]
    }
   ],
   "source": [
    "!pip3 install requests-html"
   ]
  },
  {
   "cell_type": "code",
   "execution_count": 1,
   "metadata": {
    "colab": {},
    "colab_type": "code",
    "id": "f6cpRDXPi88I"
   },
   "outputs": [],
   "source": [
    "from requests_html import HTMLSession\n",
    "session = HTMLSession()\n",
    "\n",
    "r = session.get('https://kyivcity.gov.ua/dorohy_transport_ta_parkovky/dorozhniy_rukh_377411/dtp_statistika_ta_analiz_379515/')\n",
    "parsed_data = r.html.xpath('//p')"
   ]
  },
  {
   "cell_type": "code",
   "execution_count": 2,
   "metadata": {
    "colab": {
     "base_uri": "https://localhost:8080/",
     "height": 54
    },
    "colab_type": "code",
    "id": "PdWTNNVqjOA4",
    "outputId": "bddd6e49-9dcc-4a47-8ccf-e9d1009f959e"
   },
   "outputs": [],
   "source": [
    "raw_data = []\n",
    "for p in parsed_data:\n",
    "  raw_data.append(p.text)\n",
    "raw_data = ' '.join(raw_data)\n",
    "raw_data = raw_data.strip().replace('\\n', '')\n",
    "#print(raw_data)"
   ]
  },
  {
   "cell_type": "code",
   "execution_count": 3,
   "metadata": {
    "colab": {
     "base_uri": "https://localhost:8080/",
     "height": 54
    },
    "colab_type": "code",
    "id": "TywH43rzfwgo",
    "outputId": "d74960eb-0b9c-4cd7-a5dd-743cb17a2638"
   },
   "outputs": [],
   "source": [
    "import re\n",
    "filtered_data = []\n",
    "dates = re.compile(r'\\d{2}\\.\\d{2}.\\d{4}').findall(raw_data)\n",
    "#print(dates)"
   ]
  },
  {
   "cell_type": "code",
   "execution_count": 4,
   "metadata": {
    "colab": {
     "base_uri": "https://localhost:8080/",
     "height": 1000
    },
    "colab_type": "code",
    "id": "eEZVhLZHmsUa",
    "outputId": "55886751-cb8c-4ce6-97c6-a2c90be9eda3"
   },
   "outputs": [
    {
     "name": "stdout",
     "output_type": "stream",
     "text": [
      "13.07.2020\n",
      "06.07.2020\n",
      "30.06.2020\n",
      "22.06.2020\n",
      "15.06.2020\n",
      "09.06.2020\n",
      "01.06.2020\n",
      "25.05.2020\n",
      "18.05.2020\n",
      "12.05.2020\n",
      "04.05.2020\n",
      "27.04.2020\n",
      "21.04.2020\n",
      "13.04.2020\n",
      "06.04.2020\n",
      "30.03.2020\n",
      "23.03.2020\n",
      "16.03.2020\n",
      "10.03.2020\n",
      "02.03.2020\n",
      "24.02.2020\n",
      "17.02.2020\n",
      "10.02.2020\n",
      "06.01.2020\n",
      "03.02.2020\n",
      "27.01.2020\n",
      "20.01.2020\n",
      "13.01.2020\n",
      "06.01.2020\n",
      "02.01.2020\n",
      "23.12.2019\n",
      "16.12.2019\n",
      "09.12.2019\n",
      "02.12.2019\n",
      "25.11.2019\n",
      "11.11.2019\n",
      "04.11.2019\n",
      "28.10.2019\n",
      "21.10.2019\n",
      "15.10.2019\n",
      "07.10.2019\n",
      "30.09.2019\n",
      "23.09.2019\n",
      "16.09.2019\n",
      "09.09.2019\n",
      "02.09.2019\n",
      "27.08.2019\n",
      "19.08.2019\n",
      "12.08.2019\n",
      "05.08.2019\n",
      "29.07.2019\n",
      "22.07.2019\n",
      "15.07.2019\n",
      "08.07.2019\n",
      "01.07.2019\n",
      "24.06.2019\n",
      "18.06.2019\n",
      "10.06.2019\n",
      "04.06.2019\n",
      "26.05.2019\n"
     ]
    }
   ],
   "source": [
    "for d in dates:\n",
    "  print(d)\n",
    "  raw_data = raw_data.replace(d, f'|{d}\\/')\n",
    "#print(raw_data)"
   ]
  },
  {
   "cell_type": "code",
   "execution_count": 5,
   "metadata": {
    "colab": {},
    "colab_type": "code",
    "id": "a1StAseKpBKo"
   },
   "outputs": [],
   "source": [
    "data_list = raw_data.split('|')\n",
    "res_list = []\n",
    "for item in data_list:\n",
    "    if data_list:\n",
    "        res_list.append(item.split('\\/'))\n"
   ]
  },
  {
   "cell_type": "code",
   "execution_count": 6,
   "metadata": {
    "colab": {},
    "colab_type": "code",
    "id": "OfXIlEc1y5MM"
   },
   "outputs": [],
   "source": [
    "data_dict = {}\n",
    "for item in res_list:\n",
    "    if len(item) >= 2:\n",
    "        data_dict[item[0]] = item[1] if item[1] else item[2]"
   ]
  },
  {
   "cell_type": "code",
   "execution_count": 7,
   "metadata": {
    "colab": {
     "base_uri": "https://localhost:8080/",
     "height": 1000
    },
    "colab_type": "code",
    "id": "QMY9x_Rzg7RE",
    "outputId": "2d7ea70e-3ad7-4a2f-c6ec-4adb19b4713b"
   },
   "outputs": [],
   "source": [
    "dict_of_dicts = {}\n",
    "for key, value in data_dict.items():\n",
    "    dict_of_dicts[key] = {'text': value.replace(u'\\xa0', u' ')}\n",
    "#dict_of_dicts"
   ]
  },
  {
   "cell_type": "code",
   "execution_count": 8,
   "metadata": {
    "colab": {
     "base_uri": "https://localhost:8080/",
     "height": 54
    },
    "colab_type": "code",
    "id": "X2PA4NuDo_3W",
    "outputId": "9a910e11-96df-42de-999a-8c54805a231c"
   },
   "outputs": [],
   "source": [
    "for key, value in dict_of_dicts.items():\n",
    "    raw_string = dict_of_dicts[key]['text']\n",
    "    value = re.search(r'\\d{1,4} (ДТП|ДОРОЖНЬО|дорожньо)', raw_string).group(0)\n",
    "    dict_of_dicts[key]['accidents'] = re.findall(r'\\d{1,4}', value)[0]"
   ]
  },
  {
   "cell_type": "code",
   "execution_count": 10,
   "metadata": {
    "colab": {
     "base_uri": "https://localhost:8080/",
     "height": 1000
    },
    "colab_type": "code",
    "id": "S9OJilP9iOra",
    "outputId": "21fb98b7-7f38-40eb-aaf1-5422a710cf76"
   },
   "outputs": [],
   "source": [
    "for key, value in dict_of_dicts.items():\n",
    "    raw_string = dict_of_dicts[key]['text']\n",
    "    value = re.search(r'\\d{1,3} (із|з) них', raw_string)\n",
    "    #print(key, value)\n",
    "    #if value:\n",
    "    #    value = value.group(0)\n",
    "    #    dict_of_dicts[key]['victims'] = re.findall(r'\\d{1,4}', value)[0]\n",
    "    #else:\n",
    "    #    value = re.search(r'Із них \\d{1,3} ', raw_string)\n",
    "    if value:\n",
    "        value = value.group(0)\n",
    "        dict_of_dicts[key]['victims'] = re.findall(r'\\d{1,4}', value)[0]\n",
    "    else:\n",
    "        dict_of_dicts[key]['victims'] = 0\n",
    "#print(dict_of_dicts)"
   ]
  },
  {
   "cell_type": "code",
   "execution_count": 11,
   "metadata": {
    "colab": {
     "base_uri": "https://localhost:8080/",
     "height": 204
    },
    "colab_type": "code",
    "id": "bXoKPaVPFzmV",
    "outputId": "0bdd5432-a40d-4d2a-876f-63c83310ea6d"
   },
   "outputs": [
    {
     "name": "stdout",
     "output_type": "stream",
     "text": [
      "Requirement already satisfied: seaborn in c:\\programdata\\anaconda3\\lib\\site-packages (0.10.0)\n",
      "Requirement already satisfied: pandas>=0.22.0 in c:\\programdata\\anaconda3\\lib\\site-packages (from seaborn) (1.0.1)\n",
      "Requirement already satisfied: matplotlib>=2.1.2 in c:\\programdata\\anaconda3\\lib\\site-packages (from seaborn) (3.1.3)\n",
      "Requirement already satisfied: numpy>=1.13.3 in c:\\programdata\\anaconda3\\lib\\site-packages (from seaborn) (1.18.1)\n",
      "Requirement already satisfied: scipy>=1.0.1 in c:\\programdata\\anaconda3\\lib\\site-packages (from seaborn) (1.4.1)\n",
      "Requirement already satisfied: pytz>=2017.2 in c:\\programdata\\anaconda3\\lib\\site-packages (from pandas>=0.22.0->seaborn) (2019.3)\n",
      "Requirement already satisfied: python-dateutil>=2.6.1 in c:\\programdata\\anaconda3\\lib\\site-packages (from pandas>=0.22.0->seaborn) (2.8.1)\n",
      "Requirement already satisfied: kiwisolver>=1.0.1 in c:\\programdata\\anaconda3\\lib\\site-packages (from matplotlib>=2.1.2->seaborn) (1.1.0)\n",
      "Requirement already satisfied: pyparsing!=2.0.4,!=2.1.2,!=2.1.6,>=2.0.1 in c:\\programdata\\anaconda3\\lib\\site-packages (from matplotlib>=2.1.2->seaborn) (2.4.6)\n",
      "Requirement already satisfied: cycler>=0.10 in c:\\programdata\\anaconda3\\lib\\site-packages (from matplotlib>=2.1.2->seaborn) (0.10.0)\n",
      "Requirement already satisfied: six>=1.5 in c:\\programdata\\anaconda3\\lib\\site-packages (from python-dateutil>=2.6.1->pandas>=0.22.0->seaborn) (1.14.0)\n",
      "Requirement already satisfied: setuptools in c:\\programdata\\anaconda3\\lib\\site-packages (from kiwisolver>=1.0.1->matplotlib>=2.1.2->seaborn) (45.2.0.post20200210)\n"
     ]
    }
   ],
   "source": [
    "!pip3 install seaborn"
   ]
  },
  {
   "cell_type": "code",
   "execution_count": 53,
   "metadata": {
    "colab": {
     "base_uri": "https://localhost:8080/",
     "height": 1000
    },
    "colab_type": "code",
    "id": "YPboPVUniQfw",
    "outputId": "55f190d2-c6a1-4bca-dd94-3c371acc5fbd"
   },
   "outputs": [],
   "source": [
    "import numpy as np\n",
    "import pandas as pd\n",
    "\n",
    "dates = list(dict_of_dicts.keys())\n",
    "date_of = np.array(dates)\n",
    "accidents = np.array([value['accidents'] for value in dict_of_dicts.values()])\n",
    "victims = np.array([value['victims'] for value in dict_of_dicts.values()])\n",
    "\n",
    "# convert to pandas dataframe\n",
    "d = {'date_of': date_of, 'accidents': pd.to_numeric(accidents), 'victims': pd.to_numeric(victims)}\n",
    "pdnumsqr = pd.DataFrame(d)\n",
    "pdnumsqr['date_of'] = pd.to_datetime(pdnumsqr['date_of'])\n",
    "pdnumsqr = pdnumsqr.sort_values('date_of')"
   ]
  },
  {
   "cell_type": "code",
   "execution_count": 54,
   "metadata": {},
   "outputs": [
    {
     "data": {
      "text/html": [
       "<div>\n",
       "<style scoped>\n",
       "    .dataframe tbody tr th:only-of-type {\n",
       "        vertical-align: middle;\n",
       "    }\n",
       "\n",
       "    .dataframe tbody tr th {\n",
       "        vertical-align: top;\n",
       "    }\n",
       "\n",
       "    .dataframe thead th {\n",
       "        text-align: right;\n",
       "    }\n",
       "</style>\n",
       "<table border=\"1\" class=\"dataframe\">\n",
       "  <thead>\n",
       "    <tr style=\"text-align: right;\">\n",
       "      <th></th>\n",
       "      <th>date_of</th>\n",
       "      <th>accidents</th>\n",
       "      <th>victims</th>\n",
       "    </tr>\n",
       "  </thead>\n",
       "  <tbody>\n",
       "    <tr>\n",
       "      <th>53</th>\n",
       "      <td>2019-01-07</td>\n",
       "      <td>775</td>\n",
       "      <td>0</td>\n",
       "    </tr>\n",
       "    <tr>\n",
       "      <th>44</th>\n",
       "      <td>2019-02-09</td>\n",
       "      <td>698</td>\n",
       "      <td>54</td>\n",
       "    </tr>\n",
       "    <tr>\n",
       "      <th>32</th>\n",
       "      <td>2019-02-12</td>\n",
       "      <td>847</td>\n",
       "      <td>37</td>\n",
       "    </tr>\n",
       "    <tr>\n",
       "      <th>57</th>\n",
       "      <td>2019-04-06</td>\n",
       "      <td>820</td>\n",
       "      <td>0</td>\n",
       "    </tr>\n",
       "    <tr>\n",
       "      <th>35</th>\n",
       "      <td>2019-04-11</td>\n",
       "      <td>832</td>\n",
       "      <td>0</td>\n",
       "    </tr>\n",
       "  </tbody>\n",
       "</table>\n",
       "</div>"
      ],
      "text/plain": [
       "      date_of  accidents  victims\n",
       "53 2019-01-07        775        0\n",
       "44 2019-02-09        698       54\n",
       "32 2019-02-12        847       37\n",
       "57 2019-04-06        820        0\n",
       "35 2019-04-11        832        0"
      ]
     },
     "execution_count": 54,
     "metadata": {},
     "output_type": "execute_result"
    }
   ],
   "source": [
    "pdnumsqr.head()"
   ]
  },
  {
   "cell_type": "code",
   "execution_count": 58,
   "metadata": {
    "colab": {
     "base_uri": "https://localhost:8080/",
     "height": 568
    },
    "colab_type": "code",
    "id": "LaFzEeMIk8Hu",
    "outputId": "4eb23a94-7762-48de-e618-7056d0a6a39e"
   },
   "outputs": [
    {
     "data": {
      "image/png": "[encoded data removed]",
      "text/plain": [
       "<Figure size 864x288 with 1 Axes>"
      ]
     },
     "metadata": {},
     "output_type": "display_data"
    }
   ],
   "source": [
    "import seaborn as sns\n",
    "from matplotlib import pyplot as plt\n",
    "sns.set(style='darkgrid')\n",
    "sns.set(rc={'figure.figsize':(12,4)})\n",
    "sns.set_style(\"ticks\", {\"xtick.major.size\": 10, \"ytick.major.size\": 10})\n",
    "\n",
    "ax = sns.lineplot(x='date_of', y='accidents', data=pdnumsqr)\n",
    "ax.set_xlabel('Дата', fontsize = 13)\n",
    "ax.set_ylabel('Аварии', fontsize = 13)\n",
    "\n",
    "\n",
    "for label in ax.get_xticklabels():\n",
    "    label.set_rotation(90) \n",
    "\n",
    "plt.show()"
   ]
  },
  {
   "cell_type": "code",
   "execution_count": 61,
   "metadata": {
    "colab": {},
    "colab_type": "code",
    "id": "mGd9kL9jhUVT"
   },
   "outputs": [
    {
     "data": {
      "image/png": "[encoded data removed]",
      "text/plain": [
       "<Figure size 864x288 with 1 Axes>"
      ]
     },
     "metadata": {},
     "output_type": "display_data"
    }
   ],
   "source": [
    "import seaborn as sns\n",
    "from matplotlib import pyplot as plt\n",
    "sns.set(style='darkgrid')\n",
    "sns.set(rc={'figure.figsize':(12,4)})\n",
    "sns.set_style(\"ticks\", {\"xtick.major.size\": 10, \"ytick.major.size\": 10})\n",
    "\n",
    "ax = sns.lineplot(x='date_of', y='victims', data=pdnumsqr)\n",
    "ax.set_xlabel('Дата', fontsize = 13)\n",
    "ax.set_ylabel('Жертвы', fontsize = 13)\n",
    "\n",
    "\n",
    "for label in ax.get_xticklabels():\n",
    "    label.set_rotation(90) \n",
    "\n",
    "plt.show()"
   ]
  },
  {
   "cell_type": "code",
   "execution_count": null,
   "metadata": {},
   "outputs": [],
   "source": []
  }
 ],
 "metadata": {
  "colab": {
   "authorship_tag": "ABX9TyMJ3NuW2T9E3Zu5k4CLbzKb",
   "collapsed_sections": [],
   "include_colab_link": true,
   "name": "Статистика ДТП Київ.ipynb",
   "provenance": []
  },
  "kernelspec": {
   "display_name": "Python 3",
   "language": "python",
   "name": "python3"
  },
  "language_info": {
   "codemirror_mode": {
    "name": "ipython",
    "version": 3
   },
   "file_extension": ".py",
   "mimetype": "text/x-python",
   "name": "python",
   "nbconvert_exporter": "python",
   "pygments_lexer": "ipython3",
   "version": "3.7.6"
  }
 },
 "nbformat": 4,
 "nbformat_minor": 4
}
